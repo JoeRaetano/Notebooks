[Home](https://www.latex-project.org/)
[About](https://www.latex-project.org/about/)
[Get](https://www.latex-project.org/get/)
[LaTeX3](https://www.latex-project.org/latex3/)
[Publications](https://www.latex-project.org/publications/)
[Help](https://www.latex-project.org/help/)
[News](https://www.latex-project.org/news/)
***

![Latex Logo](https://www.latex-project.org/img/latex-project-logo.svg)

### Running Latex Math Equations in a Jupyter Notebook
\begin{align}
f(x) = x^2
\end{align}


