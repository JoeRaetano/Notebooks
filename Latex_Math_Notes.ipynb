[Home](https://www.latex-project.org/)
[About](https://www.latex-project.org/about/)
[Get](https://www.latex-project.org/get/)
[LaTeX3](https://www.latex-project.org/latex3/)
[Publications](https://www.latex-project.org/publications/)
[Help](https://www.latex-project.org/help/)
[News](https://www.latex-project.org/news/)
***

![Latex Logo](https://www.latex-project.org/img/latex-project-logo.svg)

### Running Latex Math Equations in a Jupyter Notebook
\begin{align}
f(x) = x^2
\end{align}

### The Lorenz Equations
\begin{align}
\dot{x} & = \sigma(y-x) \\
\dot{y} & = \rho x - y - xz \\
\dot{z} & = -\beta z + xy
\end{align}

